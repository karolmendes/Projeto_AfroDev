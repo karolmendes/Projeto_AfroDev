{
  "nbformat": 4,
  "nbformat_minor": 0,
  "metadata": {
    "colab": {
      "name": "Sistema Interativo.ipynb",
      "provenance": [],
      "collapsed_sections": [],
      "include_colab_link": true
    },
    "kernelspec": {
      "name": "python3",
      "display_name": "Python 3"
    },
    "language_info": {
      "name": "python"
    }
  },
  "cells": [
    {
      "cell_type": "markdown",
      "metadata": {
        "id": "view-in-github",
        "colab_type": "text"
      },
      "source": [
        "<a href=\"https://colab.research.google.com/github/karolmendes/Projeto_AfroDev/blob/main/Sistema_Interativo.ipynb\" target=\"_parent\"><img src=\"https://colab.research.google.com/assets/colab-badge.svg\" alt=\"Open In Colab\"/></a>"
      ]
    },
    {
      "cell_type": "markdown",
      "metadata": {
        "id": "mKzLruHJsbHf"
      },
      "source": [
        "## Sistema Interativo"
      ]
    },
    {
      "cell_type": "code",
      "metadata": {
        "id": "yrN7-90FR7MK"
      },
      "source": [
        "import pandas as pd"
      ],
      "execution_count": 11,
      "outputs": []
    },
    {
      "cell_type": "code",
      "metadata": {
        "id": "eTCm8x3tsO5X"
      },
      "source": [
        "# Criação de função para mensagem de introdução ao sistema"
      ],
      "execution_count": 12,
      "outputs": []
    },
    {
      "cell_type": "code",
      "metadata": {
        "id": "VrVD87W-SC1V"
      },
      "source": [
        "def bem_vindo():\n",
        "  print(\"Olá Human@, gostaria de acessar informações e curiosidades sobre as Olimpíadas de Tóquio de 2021?\")\n",
        "  if \"não\" in (input(\"Digite Sim ou Não:\")):\n",
        "    print(\"Xauzinho! Mas não esqueça de praticar esporte!\")\n",
        "  else: \n",
        "    print(\"Ótimo! Sobre qual tema você gostaria de ter informações:\\n1) Esportes  \\n2) Gênero  \\n3) Técnicos  \\n4) Medalhas  \\n5) Atletas\")\n",
        "    tema_escolhido(int(input()))\n",
        "  "
      ],
      "execution_count": 13,
      "outputs": []
    },
    {
      "cell_type": "code",
      "metadata": {
        "id": "aKXBHwMxstM7"
      },
      "source": [
        "# Criação de função para que o usuário escolha o tema de interesse"
      ],
      "execution_count": 14,
      "outputs": []
    },
    {
      "cell_type": "code",
      "metadata": {
        "id": "D7boRAx8T1Qr"
      },
      "source": [
        "def tema_escolhido(tema):\n",
        "  if 1 == tema:\n",
        "    quiz_esportes()\n",
        "  if 2 == tema:\n",
        "    quiz_genero()\n",
        "  if 3 == tema:\n",
        "    quiz_tecnicos()\n",
        "  if 4 == tema:\n",
        "    quiz_medalhas()\n",
        "  if 5 == tema:\n",
        "    quiz_atletas()"
      ],
      "execution_count": 15,
      "outputs": []
    },
    {
      "cell_type": "code",
      "metadata": {
        "id": "bKAF8F70s5EA"
      },
      "source": [
        "# Questões relacionadas ao gênero"
      ],
      "execution_count": 16,
      "outputs": []
    },
    {
      "cell_type": "code",
      "metadata": {
        "id": "oa5_mW--eSdV"
      },
      "source": [
        "def quiz_genero():\n",
        "  genero = pd.read_excel('/EntriesGender.xlsx')\n",
        "  print('Quiz Gênero')\n",
        "  print(\"\"\"Perguntas:\n",
        "  \\n1 - Qual o total de atletas homens participantes desta edição? \n",
        "\t\\n2 - Qual o total de atletas mulheres participantes desta edição? \n",
        "  \"\"\")\n",
        "  pergunta_selecionada = int(input())\n",
        "  if 1 == pergunta_selecionada:\n",
        "    total_de_homens = genero['Male'].sum()\n",
        "    print(f'O total de atletas homens participantes é de {total_de_homens}')\n",
        "  if 2 == pergunta_selecionada:\n",
        "    total_de_mulheres = genero['Female'].sum()\n",
        "    print(f'O total de atletas mulheres participantes é de {total_de_mulheres}')"
      ],
      "execution_count": 17,
      "outputs": []
    },
    {
      "cell_type": "code",
      "metadata": {
        "id": "EgbjJXqEtHLY"
      },
      "source": [
        "# Questões relacionadas a esportes"
      ],
      "execution_count": 18,
      "outputs": []
    },
    {
      "cell_type": "code",
      "metadata": {
        "id": "r8cQFpfuUpYe"
      },
      "source": [
        "def quiz_esportes():\n",
        "  esportes = pd.read_excel('/Teams.xlsx')\n",
        "  print(\"Quiz Esportes\")\n",
        "  print(\"\"\"Perguntas: \n",
        "  \\n1 - Quais modalidades de esportes participantes deste evento olímpico?\n",
        "  \"\"\")\n",
        "  pergunta_selecionada: int(input())\n",
        "  if 1 == pergunta_selecionada:\n",
        "    lista = esportes.set_index(\"Discipline\")\n",
        "    disciplines = list(set(lista.index.values))\n",
        "    print('Os esportes participantes deste evento olímpico {esportes}')"
      ],
      "execution_count": 39,
      "outputs": []
    },
    {
      "cell_type": "code",
      "metadata": {
        "id": "RJlak7gqtRi4"
      },
      "source": [
        "# Questões relacionadas ao quadro de medalhas"
      ],
      "execution_count": 20,
      "outputs": []
    },
    {
      "cell_type": "code",
      "metadata": {
        "id": "oh6T5NiWVCBQ"
      },
      "source": [
        "def quiz_medalhas():\n",
        "  medalhas = pd.read_excel('/Medals.xlsx')\n",
        "  medalhas['total_geral'] = medalhas['Gold'] + medalhas['Silver'] + medalhas['Bronze']\n",
        "  print(\"Quiz Medalhas\")\n",
        "  print(\"\"\"Perguntas: \n",
        "  \\n1  - Quais os países com mais medalhas de ouro? \n",
        "\t\\n2  - Quais os países com mais medalhas de prata?\n",
        "\t\\n3  - Quais os países com mais medalhas de bronze? \n",
        "\t\\n4  - Quais os países com menos medalhas de ouro?\n",
        "\t\\n5  - Quais os países com menos medalhas de prata?\n",
        "\t\\n6  - Quais os países com menos medalhas de bronze?\n",
        "\t\\n7  - Qual o total geral de medalhas por país? \n",
        "  \"\"\")\n",
        "  pergunta_selecionada = int(input())\n",
        "  if 1 == pergunta_selecionada:\n",
        "    mais_ouro = medalhas.loc[medalhas['Gold'] == 39]\n",
        "    print(f'O país com mais medalhas de ouro é \\n{mais_ouro}')\n",
        "  if 2 == pergunta_selecionada:\n",
        "    mais_prata = medalhas.loc[medalhas['Silver'] == 41] \n",
        "    print(f'O país com mais medalhas de prata é \\n{mais_prata}')\n",
        "  if 3 == pergunta_selecionada:\n",
        "    mais_bronze = medalhas.loc[medalhas['Bronze'] == 33]\n",
        "    print(f'O país com mais medalhas de bronze é \\n{mais_bronze}')\n",
        "  if 4 == pergunta_selecionada:\n",
        "    menos_outro = medelhas.loc[medalhas['Gold'] == 0]\n",
        "    print(f'O país com menos medalhas de ouro é \\n{menos_ouro}')\n",
        "  if 5 == pergunta_selecionada:\n",
        "    menos_prata = medalhas.loc[medalhas['Silver'] == 0]\n",
        "    print(f'O país com menos medalhas de prata é \\n{menos_prata}')\n",
        "  if 6 == pergunta_selecionada:\n",
        "    menos_bronze = medalhas.loc[medalhas['Bronze'] == 0]\n",
        "    print(f'O país com menos medalhas de bronze é \\n{menos_bronze}')\n",
        "  if 7 == pergunta_selecionada: \n",
        "    geral = medalhas['total_geral']\n",
        "    print(f'O total geral de medalhas por país é \\n{geral}')"
      ],
      "execution_count": 33,
      "outputs": []
    },
    {
      "cell_type": "code",
      "metadata": {
        "id": "AYITjkietbLD"
      },
      "source": [
        "# Questões relacionadas ao total de atletas"
      ],
      "execution_count": 22,
      "outputs": []
    },
    {
      "cell_type": "code",
      "metadata": {
        "id": "y5nVh_E7jH5q"
      },
      "source": [
        "def quiz_atletas():\n",
        "  atletas = pd.read_excel('/Athletes.xlsx')\n",
        "  print('Quiz Atletas')\n",
        "  print(\"\"\"Perguntas:\n",
        "  \\n1 - Quantos atletas participaram das olimpíadas de Tokyo? \n",
        "\t\n",
        "  \"\"\")\n",
        "  pergunta_selecionada = int(input())\n",
        "  if 1 == pergunta_selecionada:\n",
        "    total_de_atletas = atletas.shape[0]\n",
        "    print(f'O total de atletas que participaram das Olimpíadas de Tóquio em 2021 é de {total_de_atletas}')"
      ],
      "execution_count": 23,
      "outputs": []
    },
    {
      "cell_type": "code",
      "metadata": {
        "id": "AGM1jTNdtadu"
      },
      "source": [
        "# Questões relacionadas ao total de técnicos"
      ],
      "execution_count": 24,
      "outputs": []
    },
    {
      "cell_type": "code",
      "metadata": {
        "id": "37C3SvM6oGZ4"
      },
      "source": [
        "def quiz_tecnicos():\n",
        "  tecnicos = pd.read_excel('/Coaches.xlsx')\n",
        "  print('Quiz Técnicos')\n",
        "  print(\"\"\"Perguntas:\n",
        "  \\n1 - Qual o total de tecnicos participantes das Olimpíadas de 2021?\n",
        "  \"\"\")\n",
        "  pergunta_selecionada = int(input())\n",
        "  if 1 == pergunta_selecionada:\n",
        "    total_de_tecnicos = tecnicos.shape[0]\n",
        "    print(f'O total de técnicos participantes das Olimpíadas de 2021 é de {total_de_tecnicos}')\n"
      ],
      "execution_count": 25,
      "outputs": []
    },
    {
      "cell_type": "code",
      "metadata": {
        "colab": {
          "base_uri": "https://localhost:8080/"
        },
        "id": "uZ6Ik9CnDkUD",
        "outputId": "3dc20a79-4fc0-4881-943e-03fd9021b358"
      },
      "source": [
        "bem_vindo()"
      ],
      "execution_count": 41,
      "outputs": [
        {
          "output_type": "stream",
          "name": "stdout",
          "text": [
            "Olá Human@, gostaria de acessar informações e curiosidades sobre as Olimpíadas de Tóquio de 2021?\n",
            "Digite Sim ou Não:não\n",
            "Xauzinho! Mas não esqueça de praticar esporte!\n"
          ]
        }
      ]
    },
    {
      "cell_type": "code",
      "metadata": {
        "id": "Y60I9at-Dmc6"
      },
      "source": [
        ""
      ],
      "execution_count": null,
      "outputs": []
    }
  ]
}